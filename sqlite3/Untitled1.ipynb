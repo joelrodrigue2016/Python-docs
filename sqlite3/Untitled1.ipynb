{
 "cells": [
  {
   "cell_type": "code",
   "execution_count": 39,
   "metadata": {},
   "outputs": [
    {
     "name": "stdout",
     "output_type": "stream",
     "text": [
      "Opened database successfully\n"
     ]
    }
   ],
   "source": [
    "import psycopg2\n",
    "\n",
    "conn = psycopg2.connect(database=\"postgres\", user = \"postgres\", password = \"Kingjames1611\", host = \"localhost\", port = \"5432\")\n",
    "\n",
    "print (\"Opened database successfully\")"
   ]
  },
  {
   "cell_type": "code",
   "execution_count": 28,
   "metadata": {},
   "outputs": [
    {
     "name": "stdout",
     "output_type": "stream",
     "text": [
      "Table created successfully\n"
     ]
    }
   ],
   "source": [
    "###create table\n",
    "cur = conn.cursor()\n",
    "cur.execute('''CREATE TABLE courses(course_id serial primary key,\n",
    "                course_name VARCHAR(255) NOT NULL,\n",
    "                description VARCHAR(500),\n",
    "                published_date date);''')\n",
    "\n",
    "\n",
    "print (\"Table created successfully\")"
   ]
  },
  {
   "cell_type": "code",
   "execution_count": 62,
   "metadata": {},
   "outputs": [
    {
     "name": "stdout",
     "output_type": "stream",
     "text": [
      "Course name:  Print (opens a new window) MAT 6932 Selected Topics\n",
      "Description: Credit Hours: 1-4  Each course covers a single topic outside the usual curriculum.  USF | College of Arts and Sciences | Mathematics and Statistics\n",
      "Published date: 2020-07-12\n",
      "Records created successfully\n"
     ]
    }
   ],
   "source": [
    "cur = conn.cursor()\n",
    "\n",
    "course_name =input(\"Course name: \")\n",
    "description = input(\"Description: \")\n",
    "published_date = input(\"Published date: \")\n",
    "\n",
    "cur.execute(f\"\"\"INSERT INTO courses(course_name, description, published_date) \\\n",
    "      VALUES ('{course_name}','{description}','{published_date}')\"\"\")   ##2020-07-13\n",
    "\n",
    "conn.commit()\n",
    "print (\"Records created successfully\")\n",
    "\n"
   ]
  },
  {
   "cell_type": "code",
   "execution_count": 63,
   "metadata": {},
   "outputs": [
    {
     "name": "stdout",
     "output_type": "stream",
     "text": [
      "Connection closed, see you next time!\n"
     ]
    }
   ],
   "source": [
    "conn.close()\n",
    "print(\"Connection closed, see you next time!\")"
   ]
  },
  {
   "cell_type": "code",
   "execution_count": null,
   "metadata": {},
   "outputs": [],
   "source": [
    "\n",
    "\n",
    "\n"
   ]
  },
  {
   "cell_type": "code",
   "execution_count": null,
   "metadata": {},
   "outputs": [],
   "source": []
  }
 ],
 "metadata": {
  "kernelspec": {
   "display_name": "Python 3",
   "language": "python",
   "name": "python3"
  },
  "language_info": {
   "codemirror_mode": {
    "name": "ipython",
    "version": 3
   },
   "file_extension": ".py",
   "mimetype": "text/x-python",
   "name": "python",
   "nbconvert_exporter": "python",
   "pygments_lexer": "ipython3",
   "version": "3.8.5"
  }
 },
 "nbformat": 4,
 "nbformat_minor": 4
}
