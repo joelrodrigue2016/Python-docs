{
 "cells": [
  {
   "cell_type": "code",
   "execution_count": 2,
   "metadata": {
    "collapsed": true
   },
   "outputs": [
    {
     "name": "stdout",
     "output_type": "stream",
     "text": [
      "Opened database successfully\n"
     ]
    }
   ],
   "source": [
    "import psycopg2\n",
    "\n",
    "conn = psycopg2.connect(database=\"postgres\", user = \"postgres\", password = \"Kingjames1611\", host = \"localhost\", port = \"5432\")\n",
    "\n",
    "print (\"Opened database successfully\")\n"
   ]
  },
  {
   "cell_type": "code",
   "execution_count": null,
   "outputs": [],
   "source": [
    "###create table\n",
    "cur = conn.cursor()\n",
    "cur.execute('''CREATE TABLE courses(course_id serial primary key,\n",
    "                course_name VARCHAR(255) NOT NULL,\n",
    "                description VARCHAR(500),\n",
    "                published_date date);''')\n",
    "\n",
    "\n",
    "print (\"Table created successfully\")"
   ],
   "metadata": {
    "collapsed": false,
    "pycharm": {
     "name": "#%%\n"
    }
   }
  },
  {
   "cell_type": "code",
   "execution_count": 3,
   "outputs": [
    {
     "name": "stdout",
     "output_type": "stream",
     "text": [
      "Records created successfully\n"
     ]
    }
   ],
   "source": [
    "cur = conn.cursor()\n",
    "\n",
    "course_name =input(\"Course name: \")\n",
    "description = input(\"Description: \")\n",
    "published_date = input(\"Published date: \")\n",
    "\n",
    "cur.execute(f\"\"\"INSERT INTO courses(course_name, description, published_date) \\\n",
    "      VALUES ('{course_name}','{description}','{published_date}')\"\"\")   ##2020-07-13\n",
    "\n",
    "conn.commit()\n",
    "print (\"Records created successfully\")\n"
   ],
   "metadata": {
    "collapsed": false,
    "pycharm": {
     "name": "#%%\n"
    }
   }
  },
  {
   "cell_type": "code",
   "execution_count": 4,
   "outputs": [
    {
     "name": "stdout",
     "output_type": "stream",
     "text": [
      "Connection closed, see you next time!\n"
     ]
    }
   ],
   "source": [
    "conn.close()\n",
    "print(\"Connection closed, see you next time!\")\n"
   ],
   "metadata": {
    "collapsed": false,
    "pycharm": {
     "name": "#%%\n"
    }
   }
  }
 ],
 "metadata": {
  "kernelspec": {
   "name": "pycharm-267c0322",
   "language": "python",
   "display_name": "PyCharm (Python_Files)"
  },
  "language_info": {
   "codemirror_mode": {
    "name": "ipython",
    "version": 2
   },
   "file_extension": ".py",
   "mimetype": "text/x-python",
   "name": "python",
   "nbconvert_exporter": "python",
   "pygments_lexer": "ipython2",
   "version": "2.7.6"
  }
 },
 "nbformat": 4,
 "nbformat_minor": 0
}